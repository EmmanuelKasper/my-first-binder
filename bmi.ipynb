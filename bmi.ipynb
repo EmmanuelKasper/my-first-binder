{
 "cells": [
  {
   "cell_type": "markdown",
   "metadata": {
    "id": "J5rkKyGTsTpH"
   },
   "source": [
    "The **Body Mass index Formula** is as such:\n",
    " BMI = weight (kg) / [height (m)]^2"
   ]
  },
  {
   "cell_type": "code",
   "execution_count": 2,
   "metadata": {
    "executionInfo": {
     "elapsed": 20,
     "status": "ok",
     "timestamp": 1754556333314,
     "user": {
      "displayName": "Johann Kant",
      "userId": "03222497944091409164"
     },
     "user_tz": -120
    },
    "id": "s7lfHVW0sJt9"
   },
   "outputs": [],
   "source": [
    "# example:\n",
    "weight = 75\n",
    "height = 1.77\n",
    "bmi = weight / height**2\n",
    "\n"
   ]
  },
  {
   "cell_type": "code",
   "execution_count": 3,
   "metadata": {
    "colab": {
     "base_uri": "https://localhost:8080/"
    },
    "executionInfo": {
     "elapsed": 15,
     "status": "ok",
     "timestamp": 1754556354397,
     "user": {
      "displayName": "Johann Kant",
      "userId": "03222497944091409164"
     },
     "user_tz": -120
    },
    "id": "-VparOVZszTV",
    "outputId": "85262ab2-6a99-4506-d35e-4c1d80f52aac"
   },
   "outputs": [
    {
     "name": "stdout",
     "output_type": "stream",
     "text": [
      "23.93948099205209\n"
     ]
    }
   ],
   "source": [
    "print(bmi)\n"
   ]
  }
 ],
 "metadata": {
  "colab": {
   "authorship_tag": "ABX9TyMTnno77bXE7tQWgdyh1t3/",
   "provenance": []
  },
  "kernelspec": {
   "display_name": "Python 3",
   "name": "python3"
  },
  "language_info": {
   "codemirror_mode": {
    "name": "ipython",
    "version": 3
   },
   "file_extension": ".py",
   "mimetype": "text/x-python",
   "name": "python",
   "nbconvert_exporter": "python",
   "pygments_lexer": "ipython3",
   "version": "3.13.5"
  }
 },
 "nbformat": 4,
 "nbformat_minor": 0
}
